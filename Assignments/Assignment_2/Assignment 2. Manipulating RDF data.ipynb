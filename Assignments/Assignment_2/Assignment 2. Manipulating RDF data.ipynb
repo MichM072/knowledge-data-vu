{
 "cells": [
  {
   "cell_type": "markdown",
   "metadata": {},
   "source": [
    "# Knowledge and Data 2020: Practical Assignment 2\n",
    "## Manipulate local and external RDF Knowledge Graphs "
   ]
  },
  {
   "cell_type": "markdown",
   "metadata": {},
   "source": [
    "YOUR NAME: Michael Moor\n",
    "\n",
    "YOUR VUNetID: mmr497\n",
    "\n",
    "*(If you do not provide your name and VUNetID we will not accept your submission).*"
   ]
  },
  {
   "cell_type": "markdown",
   "metadata": {},
   "source": [
    "### Learning objectives"
   ]
  },
  {
   "cell_type": "markdown",
   "metadata": {},
   "source": [
    "At the end of this exercise you should be able to perform some simple manipulations of RDF Data using the rdflib library. You should be able to: \n",
    "\n",
    "1. Add and retrieve information from a local RDF database\n",
    "2. Represent RDF data in other formats, such as the .dot format for graph visualisation\n",
    "3. Retrieve information from an RDF database created from Web Data\n",
    "4. Query information from the Web with SPARQL"
   ]
  },
  {
   "cell_type": "markdown",
   "metadata": {},
   "source": [
    "### Practicalities"
   ]
  },
  {
   "cell_type": "markdown",
   "metadata": {},
   "source": [
    "Follow this Notebook step-by-step. \n",
    "\n",
    "Of course, you can do the exercises in any Programming Editor of your liking. \n",
    "But you do not have to. Feel free to simply write code in the Notebook. When \n",
    "everything is filled in and works, save the Notebook and submit it \n",
    "as a Jupyter Notebook, i.e. with an .ipynb extension. Please use as name of the \n",
    "Notebook your studentID+Assignment2.ipynb.  \n",
    "\n",
    "Other than in courses dedicated to programming we will not evaluate the style\n",
    "of the programs. But we will test your programs on other data than we provide, \n",
    "and your program should give the correct answers to those test-data as well. "
   ]
  },
  {
   "cell_type": "markdown",
   "metadata": {},
   "source": [
    "# A. Tasks related to local RDF Knowledge Graphs"
   ]
  },
  {
   "cell_type": "markdown",
   "metadata": {},
   "source": [
    "This first cell will open a file 'example-from-slide.ttl' using the rdflib library. The first Practical Assignment should have taught you that manipulating symbols as strings is a major pain. \n",
    "\n",
    "Programming libraries, such as **rdflib**, help you with this mess once and for all, by parsing the files, creating appropriate datastructures (Graph()) and providing useful functions (such as serialize(), save() and much more). \n",
    "Check the website of rdflib http://rdflib.readthedocs.io/: this library does most of the hard work for you.\n",
    "\n",
    "Before starting with the tasks of this assignment, do not forget to install **rdflib** so we can start using it. Installing libraries in Python is very simple. Just open your terminal and write the following command:\n",
    "\n",
    "    $ pip install rdflib\n",
    "\n",
    "For more details on how to install pip and Python libraries, you can check the [preliminaries document](https://github.com/raadjoe/knowledge-data-vu/blob/master/Tutorials/Preliminaries/preliminaries.md).  "
   ]
  },
  {
   "cell_type": "code",
   "execution_count": 1,
   "metadata": {},
   "outputs": [],
   "source": [
    "from rdflib import Graph, RDF, Namespace, Literal, URIRef\n",
    "\n",
    "g = Graph()\n",
    "\n",
    "EX = Namespace('http://example.com/kad2020/')\n",
    "g.bind('ex',EX)\n",
    "\n",
    "def serialize():\n",
    "    # g.serialize() returns a byte string (b'...')\n",
    "    # .decode() is parsing the byte string into a python3 string\n",
    "    print(g.serialize(format='turtle').decode(\"utf-8\"))\n",
    "\n",
    "def save(filename):\n",
    "    with open(filename, 'w') as f:\n",
    "        g.serialize(f, format='nt')\n",
    "        \n",
    "def load(filename):\n",
    "    with open(filename, 'r') as f:\n",
    "        g.load(f, format='turtle')   "
   ]
  },
  {
   "cell_type": "markdown",
   "metadata": {},
   "source": [
    "The file 'example-from-slides.ttl' formalises the knowledge base from the slides from Module 1, and a bit more. \n",
    "\n",
    "Here is how it looks when you load it into your program and serialise it with rdflib in turtle. "
   ]
  },
  {
   "cell_type": "code",
   "execution_count": 2,
   "metadata": {
    "tags": []
   },
   "outputs": [
    {
     "output_type": "stream",
     "name": "stdout",
     "text": "@prefix ex: <http://example.com/kad2020/> .\n@prefix rdfs: <http://www.w3.org/2000/01/rdf-schema#> .\n\nex:Germany a ex:EuropeanCountry .\n\nex:Netherlands a ex:Country ;\n    ex:has_Capital ex:Amsterdam ;\n    ex:has_Name \"The Netherlands\" ;\n    ex:neighbours ex:Belgium .\n\nex:hasCapital rdfs:range ex:Capital ;\n    rdfs:subPropertyOf ex:containsCity .\n\nex:Amsterdam a ex:Capital .\n\nex:Belgium a ex:Country .\n\nex:EuropeanCountry rdfs:subClassOf ex:Country .\n\nex:containsCity rdfs:domain ex:Country ;\n    rdfs:range ex:City .\n\nex:Capital rdfs:subClassOf ex:City .\n\n\n"
    }
   ],
   "source": [
    "load('example-from-slides.ttl')\n",
    "serialize()"
   ]
  },
  {
   "cell_type": "markdown",
   "metadata": {},
   "source": [
    "Now, we can manipulate the graph very easily, e.g. like in the following very simple function, which returns the predicate(s) that relate a subject to a literal object: "
   ]
  },
  {
   "cell_type": "code",
   "execution_count": 3,
   "metadata": {
    "scrolled": true,
    "tags": []
   },
   "outputs": [
    {
     "output_type": "stream",
     "name": "stdout",
     "text": "http://example.com/kad2020/has_Name\n"
    }
   ],
   "source": [
    "for s,p,o in g:\n",
    "    if type(o) == Literal:\n",
    "        print(p)"
   ]
  },
  {
   "cell_type": "markdown",
   "metadata": {},
   "source": [
    "### - Task 1: (1 Point) Add information to an RDF graph"
   ]
  },
  {
   "cell_type": "markdown",
   "metadata": {},
   "source": [
    "Add 10 triples to the knowledge graph. Make sure that they have the right namespaces. \n",
    "\n",
    "Similarily to the triples already present in the file 'example-from-slides.ttl', add at least:\n",
    "- a new country with its name and capital \n",
    "- one triple with a new predicate\n",
    "\n",
    "Check: http://rdflib.readthedocs.io/en/stable/intro_to_creating_rdf.html"
   ]
  },
  {
   "cell_type": "code",
   "execution_count": 4,
   "metadata": {
    "tags": []
   },
   "outputs": [
    {
     "output_type": "stream",
     "name": "stdout",
     "text": "@prefix ex: <http://example.com/kad2020/> .\n@prefix rdfs: <http://www.w3.org/2000/01/rdf-schema#> .\n\nex:France a ex:EuropeanCountry ;\n    ex:has_Capital ex:Paris ;\n    ex:has_Language ex:French ;\n    ex:has_Name \"France\" ;\n    ex:neighbours ex:Belgium,\n        ex:Germany,\n        ex:Spain .\n\nex:Netherlands a ex:Country ;\n    ex:has_Capital ex:Amsterdam ;\n    ex:has_Language ex:Dutch ;\n    ex:has_Name \"The Netherlands\" ;\n    ex:neighbours ex:Belgium .\n\nex:hasCapital rdfs:range ex:Capital ;\n    rdfs:subPropertyOf ex:containsCity .\n\nex:Amsterdam a ex:Capital .\n\nex:Germany a ex:EuropeanCountry ;\n    ex:has_Language ex:German ;\n    ex:has_Name \"Germany\" .\n\nex:containsCity rdfs:domain ex:Country ;\n    rdfs:range ex:City .\n\nex:Belgium a ex:Country .\n\nex:Capital rdfs:subClassOf ex:City .\n\nex:EuropeanCountry rdfs:subClassOf ex:Country .\n\n\n"
    }
   ],
   "source": [
    "ex = Namespace(\"http://example.com/kad2020/\")\n",
    "owl = Namespace('http://www.w3.org/2002/07/owl#')\n",
    "\n",
    "# add 10 triples here to the graph 'g' (do not forget the namespaces).\n",
    "g.add((ex.France, ex.has_Name, Literal(\"France\")))\n",
    "g.add((ex.France, ex.has_Capital, ex.Paris))\n",
    "g.add((ex.France, ex.has_Language, ex.French))\n",
    "g.add((ex.France, RDF.type, ex.EuropeanCountry))\n",
    "g.add((ex.France, ex.neighbours, ex.Spain))\n",
    "g.add((ex.France, ex.neighbours, ex.Germany))\n",
    "g.add((ex.France, ex.neighbours, ex.Belgium))\n",
    "g.add((ex.Netherlands, ex.has_Language, ex.Dutch))\n",
    "g.add((ex.Germany, ex.has_Language, ex.German))\n",
    "g.add((ex.Germany, ex.has_Name, Literal(\"Germany\")))\n",
    "\n",
    "\n",
    "\n",
    "print(g.serialize(format='turtle').decode(\"utf-8\"))"
   ]
  },
  {
   "cell_type": "markdown",
   "metadata": {},
   "source": [
    "*After you ran the previous code (adding triples) the next cells will be executed on your extended graph. That is ok.*"
   ]
  },
  {
   "cell_type": "markdown",
   "metadata": {},
   "source": [
    "### - Task 2a: (1 Point) Get structured information from an RDF graph (all Literals)"
   ]
  },
  {
   "cell_type": "markdown",
   "metadata": {},
   "source": [
    "Use the functions available in the RDFLib library. Write a small function to print all Literals. \n",
    "\n",
    "Hint: there is a function in rdflib to test the type of an object (check previous examples in this notebook)"
   ]
  },
  {
   "cell_type": "code",
   "execution_count": 5,
   "metadata": {
    "tags": []
   },
   "outputs": [
    {
     "output_type": "stream",
     "name": "stdout",
     "text": "France\nThe Netherlands\nGermany\n"
    }
   ],
   "source": [
    "def print_literals(g):\n",
    "    for s,p,o in g:\n",
    "        if type(o) == Literal:\n",
    "            print(o) \n",
    "\n",
    "print_literals(g)"
   ]
  },
  {
   "cell_type": "markdown",
   "metadata": {},
   "source": [
    "### - Task 2b: (1 Point) Get structured information from an RDF graph (all unique Predicates)"
   ]
  },
  {
   "cell_type": "markdown",
   "metadata": {},
   "source": [
    "Please provide another function that gives a **unique** list of the predicates, ordered by occurrence (most occurring first). The answer will look like this: \n",
    "<br>http://www.w3.org/2000/01/rdf-schema#label\n",
    "<br>http://www.w3.org/1999/02/22-rdf-syntax-ns#type\n",
    "<br>http://example.com/sw2016/locatedIn\n",
    "<br>http://www.w3.org/2000/01/rdf-schema#range"
   ]
  },
  {
   "cell_type": "code",
   "execution_count": 6,
   "metadata": {
    "tags": []
   },
   "outputs": [
    {
     "output_type": "error",
     "ename": "SyntaxError",
     "evalue": "invalid syntax (<ipython-input-6-269a3b9d545c>, line 1)",
     "traceback": [
      "\u001b[0;36m  File \u001b[0;32m\"<ipython-input-6-269a3b9d545c>\"\u001b[0;36m, line \u001b[0;32m1\u001b[0m\n\u001b[0;31m    def print_predicates:\u001b[0m\n\u001b[0m                        ^\u001b[0m\n\u001b[0;31mSyntaxError\u001b[0m\u001b[0;31m:\u001b[0m invalid syntax\n"
     ]
    }
   ],
   "source": [
    "def print_predicates(g):\n",
    "\n",
    "    predicates = []\n",
    "\n",
    "    for s,p,o in g:\n",
    "        predicates.append(p)\n",
    "\n",
    "    sorted_predicates = sorted(predicates, key = predicates.count, reverse = True)\n",
    "    sorted_predicates = list(dict.fromkeys(sorted_predicates))\n",
    "\n",
    "    for p in sorted_predicates:\n",
    "        print(p)\n",
    "\n",
    "print_predicates(g)\n"
   ]
  },
  {
   "cell_type": "markdown",
   "metadata": {},
   "source": [
    "# B. Tasks related to Graph visualisations "
   ]
  },
  {
   "cell_type": "markdown",
   "metadata": {},
   "source": [
    "### - Task 3a: (1 Point) From RDF to .dot \n"
   ]
  },
  {
   "cell_type": "markdown",
   "metadata": {},
   "source": [
    "In the lecture, we have seen two ways of writing a knowledge graph (simple n-triples, and simple turtle). Let us consider a 3rd syntax, this time a syntax that is useful for visualisation. One standard for visualising graphs is the .dot format.\n",
    "\n",
    "Print the knowledge graph in .dot file format. Check https://graphviz.gitlab.io/documentation/ for the documentation. You will only need very little of this information, and the most relevant information can be found in the examples that are given. \n",
    "\n",
    "<br>Basically, an RDF graph in .dot format starts with \n",
    "<br>digraph G { \n",
    "    and then a list of links of the following form \n",
    "<br>s -> o [label=\"p\"]\n",
    "    for every (s p o ) in KG (separated by ;\n",
    "<br>Do not forget to end with a closing bracket. }\n",
    "\n",
    "An example is \n",
    "     \n",
    "     digraph G { s1 -> o1 [label=\"p1\"] ; s2 -> o2 [label=\"p2\"] } \n",
    "     \n",
    "for an RDF graph {(s1 p1 o1),(s2 p2 o2)}\n",
    "\n",
    "*You can check how your graph looks like. Just copy & paste your output into: http://www.webgraphviz.com/*"
   ]
  },
  {
   "cell_type": "code",
   "execution_count": 7,
   "metadata": {
    "tags": []
   },
   "outputs": [
    {
     "output_type": "stream",
     "name": "stdout",
     "text": "digraph G { \n\tNetherlands -> Country [label=\"type\"] ;\n\tFrance -> Germany [label=\"neighbours\"] ;\n\tFrance -> Belgium [label=\"neighbours\"] ;\n\tFrance -> \"France\" [label=\"has_Name\"] ;\n\tNetherlands -> \"The Netherlands\" [label=\"has_Name\"] ;\n\tFrance -> Spain [label=\"neighbours\"] ;\n\tcontainsCity -> Country [label=\"domain\"] ;\n\thasCapital -> containsCity [label=\"subPropertyOf\"] ;\n\tFrance -> French [label=\"has_Language\"] ;\n\tBelgium -> Country [label=\"type\"] ;\n\tcontainsCity -> City [label=\"range\"] ;\n\tNetherlands -> Amsterdam [label=\"has_Capital\"] ;\n\tEuropeanCountry -> Country [label=\"subClassOf\"] ;\n\tCapital -> City [label=\"subClassOf\"] ;\n\tGermany -> EuropeanCountry [label=\"type\"] ;\n\tNetherlands -> Dutch [label=\"has_Language\"] ;\n\thasCapital -> Capital [label=\"range\"] ;\n\tAmsterdam -> Capital [label=\"type\"] ;\n\tNetherlands -> Belgium [label=\"neighbours\"] ;\n\tGermany -> German [label=\"has_Language\"] ;\n\tFrance -> Paris [label=\"has_Capital\"] ;\n\tGermany -> \"Germany\" [label=\"has_Name\"] ;\n\tFrance -> EuropeanCountry [label=\"type\"]\n}\n"
    }
   ],
   "source": [
    "dot_list = []\n",
    "final_string = ''\n",
    "for s,p,o in g:\n",
    "    if type(o) == Literal:\n",
    "        o = '\"'+ o + '\"'\n",
    "    s = s.split('/')\n",
    "    if '#' in p:\n",
    "        p = p.split('#')\n",
    "    else:\n",
    "        p = p.split('/')\n",
    "    o = o.split('/')\n",
    "    dot_string = str(s[-1]) + ' -> ' + str(o[-1]) + ' [label=' + '\"' + str(p[-1]) + '\"' + ']'\n",
    "    dot_list.append(dot_string)\n",
    "\n",
    "for string in dot_list:\n",
    "    if string != dot_list[-1]:\n",
    "        final_string += '\\t' + string + ' ;' + '\\n'\n",
    "    else:\n",
    "        final_string += '\\t' + string\n",
    "\n",
    "print(\"digraph G\" + \" { \" + '\\n' + final_string + '\\n'  +\"}\")"
   ]
  },
  {
   "cell_type": "markdown",
   "metadata": {},
   "source": [
    "### - Task 3b: (1 Point) From RDF to .dot with \"semantic information\""
   ]
  },
  {
   "cell_type": "markdown",
   "metadata": {},
   "source": [
    "There is a conceptual distinction between properties, instances and classes (sets of instances). A simple way of checking is the following\n",
    "\n",
    "1. in a triple (s a o), with predicate a (which is a special abbreviation for the predicate rdf:type), the s is an Instance, and o is a Class. \n",
    "2. in a triple (s rdfs:subClassOf o) both s and o are Classes. \n",
    "3. in a triple (p rdfs:domain o) p is a Property and o is a Class. \n",
    "4. in a triple (p rdfs:range o)  p is a Property and o is a Class. \n",
    "\n",
    "Make a .dot representation for an RDF graph that distinguishes between types of links (RDF vocabulary vs others) and types of nodes (Classes versus Instances) via different colors. \n",
    "\n",
    "*You can check how your graph looks like. Just copy & paste your output into: http://www.webgraphviz.com/*"
   ]
  },
  {
   "cell_type": "code",
   "execution_count": 8,
   "metadata": {
    "tags": []
   },
   "outputs": [
    {
     "output_type": "stream",
     "name": "stdout",
     "text": "digraph G { \n\tNetherlands [color=yellow] Country [color=orange] Netherlands -> Country [label=\"type\" color=red] ;\n\tFrance -> Germany [label=\"neighbours\"] ;\n\tFrance -> Belgium [label=\"neighbours\"] ;\n\tFrance -> \"France\" [label=\"has_Name\"] ;\n\tNetherlands -> \"The Netherlands\" [label=\"has_Name\"] ;\n\tFrance -> Spain [label=\"neighbours\"] ;\n\tcontainsCity [color=cyan] Country [color=orange] containsCity -> Country [label=\"domain\" color=blue] ;\n\thasCapital -> containsCity [label=\"subPropertyOf\"] ;\n\tFrance -> French [label=\"has_Language\"] ;\n\tBelgium [color=yellow] Country [color=orange] Belgium -> Country [label=\"type\" color=red] ;\n\tcontainsCity [color=cyan] City [color=orange] containsCity -> City [label=\"range\" color=green] ;\n\tNetherlands -> Amsterdam [label=\"has_Capital\"] ;\n\tEuropeanCountry [color=orange] Country [color=orange] EuropeanCountry -> Country [label=\"subClassOf\" color=purple] ;\n\tCapital [color=orange] City [color=orange] Capital -> City [label=\"subClassOf\" color=purple] ;\n\tGermany [color=yellow] EuropeanCountry [color=orange] Germany -> EuropeanCountry [label=\"type\" color=red] ;\n\tNetherlands -> Dutch [label=\"has_Language\"] ;\n\thasCapital [color=cyan] Capital [color=orange] hasCapital -> Capital [label=\"range\" color=green] ;\n\tAmsterdam [color=yellow] Capital [color=orange] Amsterdam -> Capital [label=\"type\" color=red] ;\n\tNetherlands -> Belgium [label=\"neighbours\"] ;\n\tGermany -> German [label=\"has_Language\"] ;\n\tFrance -> Paris [label=\"has_Capital\"] ;\n\tGermany -> \"Germany\" [label=\"has_Name\"] ;\n\tFrance [color=yellow] EuropeanCountry [color=orange] France -> EuropeanCountry [label=\"type\" color=red]\n}\n"
    }
   ],
   "source": [
    "dot_list = []\n",
    "final_string = ''\n",
    "for s,p,o in g:\n",
    "    if type(o) == Literal:\n",
    "        o = '\"'+ o + '\"'\n",
    "    s = s.split('/')\n",
    "    if '#' in p:\n",
    "        p = p.split('#')\n",
    "    else:\n",
    "        p = p.split('/')\n",
    "    o = o.split('/')\n",
    "    if 'type' in p:\n",
    "        pcolor = \"red\"\n",
    "        scolor = \"yellow\"\n",
    "        ocolor = \"orange\"\n",
    "        dot_string = str(s[-1]) + ' [color=' + scolor + '] ' + str(o[-1]) + ' [color=' + ocolor + '] ' + str(s[-1]) + ' -> ' + str(o[-1]) + ' [label=' + '\"' + str(p[-1]) +\\\n",
    "        '\"' + ' color=' + pcolor + ']'\n",
    "    elif 'domain' in p:\n",
    "        pcolor = \"blue\"\n",
    "        scolor = \"cyan\"\n",
    "        ocolor = \"orange\"\n",
    "        dot_string = str(s[-1]) + ' [color=' + scolor + '] ' + str(o[-1]) + ' [color=' + ocolor + '] ' + str(s[-1]) + ' -> ' + str(o[-1]) + ' [label=' + '\"' + str(p[-1]) +\\\n",
    "        '\"' + ' color=' + pcolor + ']'\n",
    "    elif 'range' in p:\n",
    "        pcolor = \"green\"\n",
    "        scolor = \"cyan\"\n",
    "        ocolor = \"orange\"\n",
    "        dot_string = str(s[-1]) + ' [color=' + scolor + '] ' + str(o[-1]) + ' [color=' + ocolor + '] ' + str(s[-1]) + ' -> ' + str(o[-1]) + ' [label=' + '\"' + str(p[-1]) +\\\n",
    "        '\"' + ' color=' + pcolor + ']'\n",
    "    elif 'subClassOf' in p:\n",
    "        pcolor = \"purple\"\n",
    "        scolor = \"orange\"\n",
    "        ocolor = scolor\n",
    "        dot_string = str(s[-1]) + ' [color=' + scolor + '] ' + str(o[-1]) + ' [color=' + ocolor + '] ' + str(s[-1]) + ' -> ' + str(o[-1]) + ' [label=' + '\"' + str(p[-1]) +\\\n",
    "        '\"' + ' color=' + pcolor + ']'\n",
    "    else:\n",
    "        dot_string = str(s[-1]) + ' -> ' + str(o[-1]) + ' [label=' + '\"' + str(p[-1]) + '\"' + ']'\n",
    "    dot_list.append(dot_string)\n",
    "\n",
    "for string in dot_list:\n",
    "    if string != dot_list[-1]:\n",
    "        final_string += '\\t' + string + ' ;' + '\\n'\n",
    "    else:\n",
    "        final_string += '\\t' + string\n",
    "\n",
    "print(\"digraph G\" + \" { \" + '\\n' + final_string + '\\n'  +\"}\")"
   ]
  },
  {
   "cell_type": "markdown",
   "metadata": {},
   "source": [
    "### - Task 4a: (1 Point) Deriving implicit knowledge (a bit of schema)\n",
    "\n",
    "We will look into Schema information in the latter modules, but let us try already to find some implicit information in a first bit of inferencing: whenever there are two statements (s a o) and (o rdfs:subClassOf o2) we can derive (and later prove) that (s a o2). \n",
    "\n",
    "Write a procedure that adds all implied triples to our knowledge graph. "
   ]
  },
  {
   "cell_type": "code",
   "execution_count": 9,
   "metadata": {
    "tags": []
   },
   "outputs": [
    {
     "output_type": "stream",
     "name": "stdout",
     "text": "@prefix ex: <http://example.com/kad2020/> .\n@prefix rdfs: <http://www.w3.org/2000/01/rdf-schema#> .\n\nex:France a ex:Country,\n        ex:EuropeanCountry ;\n    ex:has_Capital ex:Paris ;\n    ex:has_Language ex:French ;\n    ex:has_Name \"France\" ;\n    ex:neighbours ex:Belgium,\n        ex:Germany,\n        ex:Spain .\n\nex:Netherlands a ex:Country ;\n    ex:has_Capital ex:Amsterdam ;\n    ex:has_Language ex:Dutch ;\n    ex:has_Name \"The Netherlands\" ;\n    ex:neighbours ex:Belgium .\n\nex:hasCapital rdfs:range ex:Capital ;\n    rdfs:subPropertyOf ex:containsCity .\n\nex:Amsterdam a ex:Capital,\n        ex:City .\n\nex:Germany a ex:Country,\n        ex:EuropeanCountry ;\n    ex:has_Language ex:German ;\n    ex:has_Name \"Germany\" .\n\nex:containsCity rdfs:domain ex:Country ;\n    rdfs:range ex:City .\n\nex:Belgium a ex:Country .\n\nex:Capital rdfs:subClassOf ex:City .\n\nex:EuropeanCountry rdfs:subClassOf ex:Country .\n\n\n"
    }
   ],
   "source": [
    "for s,p,o in g:\n",
    "    if \"subClassOf\" in p:\n",
    "        check_o = s\n",
    "        right_o = o\n",
    "        for s,p,o in g:\n",
    "            if o == check_o and \"type\" in p:\n",
    "                o = right_o\n",
    "                g.add((s, p, o))\n",
    "\n",
    "print(g.serialize(format='turtle').decode(\"utf-8\"))"
   ]
  },
  {
   "cell_type": "markdown",
   "metadata": {},
   "source": [
    "### - Task 4b: (Optional - 1 Extra Point) Visualising implicit knowledge\n",
    "\n",
    "Produce a .dot version of the graph with those implies implicit triples, and mark the edges of those triples with a different color or arrow style. "
   ]
  },
  {
   "cell_type": "code",
   "execution_count": 10,
   "metadata": {},
   "outputs": [],
   "source": [
    "# Your code here"
   ]
  },
  {
   "cell_type": "markdown",
   "metadata": {},
   "source": [
    "# C. Tasks related to local copies of external RDF Datasets using SPARQL"
   ]
  },
  {
   "cell_type": "markdown",
   "metadata": {},
   "source": [
    "Until now, we have manipulated local knowledge graphs, but as we claimed in the lectures, the advantage of knowledge graphs is that they can easily be linked with other datasets on the Web. \n",
    "\n",
    "In the remaining 3 tasks, we will manipulate data from the Web, and ask complex queries over this web data. \n",
    "\n",
    "In the first task, we will access web data, make a local copy of it, and then query it. In the other two tasks, we will query live data directly from web Knowledge Graphs (in this case, the SPARQL endpoint of DBPedia). "
   ]
  },
  {
   "cell_type": "markdown",
   "metadata": {},
   "source": [
    "### - Task 5: (1 Point) Show and manipulate data about RDF resources on the Web "
   ]
  },
  {
   "cell_type": "markdown",
   "metadata": {},
   "source": [
    "With rdflib we can easily load a graph, even if it comes from a source on the Web. The following snupped loads as graph the information about the resource Amsterdam from Dbpedia."
   ]
  },
  {
   "cell_type": "code",
   "execution_count": 11,
   "metadata": {},
   "outputs": [],
   "source": [
    "import rdflib\n",
    "from rdflib import Literal, URIRef\n",
    "g=rdflib.Graph()\n",
    "g.load('http://dbpedia.org/resource/Amsterdam')\n",
    "g.load('http://dbpedia.org/resource/Rotterdam')"
   ]
  },
  {
   "cell_type": "markdown",
   "metadata": {},
   "source": [
    "Let us start by showing diverse bits of information w.r.t  Amsterdam and Rotterdam in DBPedia. It is very similar to task 1, but now with Web Data. \n",
    "\n",
    "First, query the graph g (now containing the DBPedia information about Amsterdam and Rotterdam) and check whether you can find someone who was born in Amsterdam (is dbo:birthPlace of) and died in Rotterdam (is dbo:deathPlace of)?"
   ]
  },
  {
   "cell_type": "code",
   "execution_count": 12,
   "metadata": {
    "tags": []
   },
   "outputs": [
    {
     "output_type": "stream",
     "name": "stdout",
     "text": "http://dbpedia.org/resource/Jan_van_Beveren\nhttp://dbpedia.org/resource/Anthony_Sweijs\nhttp://dbpedia.org/resource/Jan_Stolker\nhttp://dbpedia.org/resource/Haya_van_Someren\n"
    }
   ],
   "source": [
    "qres = g.query(\n",
    "   \"\"\"\n",
    "    PREFIX dbr: <http://dbpedia.org/resource/>\n",
    "    PREFIX dbo: <http://dbpedia.org/ontology/>\n",
    "    SELECT ?s\n",
    "        WHERE {\n",
    "            ?s dbo:birthPlace dbr:Amsterdam .\n",
    "            ?s dbo:deathPlace dbr:Rotterdam .\n",
    "        }\n",
    "        LIMIT 10\n",
    "\n",
    "       \"\"\")\n",
    "for row in qres:\n",
    "    print(\"%s\" % row)"
   ]
  },
  {
   "cell_type": "markdown",
   "metadata": {},
   "source": [
    "Write a query to check whether there is an album that was recorded both in Rotterdam and Amsterdam? You need to look at the data to know which property you should check for. \n",
    "\n",
    "To get an intuition of what is in the knowledge graph you might want to look at the human readable rendering on : http://dbpedia.org/resource/Amsterdam"
   ]
  },
  {
   "cell_type": "code",
   "execution_count": 13,
   "metadata": {
    "scrolled": true,
    "tags": []
   },
   "outputs": [
    {
     "output_type": "stream",
     "name": "stdout",
     "text": "http://dbpedia.org/resource/With_or_Without_You_(album)\n"
    }
   ],
   "source": [
    "qres = g.query(\n",
    "   \"\"\"\n",
    "    PREFIX dbr: <http://dbpedia.org/resource/>\n",
    "    PREFIX dbo: <http://dbpedia.org/ontology/>\n",
    "    SELECT ?s\n",
    "        WHERE {\n",
    "            ?s dbo:recordedIn dbr:Amsterdam .\n",
    "            ?s dbo:recordedIn dbr:Rotterdam .\n",
    "        }\n",
    "        LIMIT 10\n",
    "       \"\"\")\n",
    "for row in qres:\n",
    "    print(\"%s\" % row)"
   ]
  },
  {
   "cell_type": "markdown",
   "metadata": {},
   "source": [
    "### - Task 6: (2 Points) Ask SPARQL against live data using Yasgui\n",
    "\n",
    "Yasgui (http://yasgui.org/) is a nice graphical interface for asking queries.\n",
    "\n",
    "Run a new query against http://dbpedia.org/sparql that does the following:\n",
    "\n",
    "- Find all languages spoken in countries that are not official languages of that country\n",
    "- The query should return two colums: the country, and the number of languages.\n",
    "- Order the countries by the number of unofficial languages, from high to low."
   ]
  },
  {
   "cell_type": "code",
   "execution_count": 14,
   "metadata": {},
   "outputs": [
    {
     "output_type": "error",
     "ename": "SyntaxError",
     "evalue": "invalid syntax (<ipython-input-14-ad29a4084161>, line 1)",
     "traceback": [
      "\u001b[0;36m  File \u001b[0;32m\"<ipython-input-14-ad29a4084161>\"\u001b[0;36m, line \u001b[0;32m1\u001b[0m\n\u001b[0;31m    PREFIX rdf: <http://www.w3.org/1999/02/22-rdf-syntax-ns#>\u001b[0m\n\u001b[0m             ^\u001b[0m\n\u001b[0;31mSyntaxError\u001b[0m\u001b[0;31m:\u001b[0m invalid syntax\n"
     ]
    }
   ],
   "source": [
    "PREFIX rdf: <http://www.w3.org/1999/02/22-rdf-syntax-ns#>\n",
    "PREFIX rdfs: <http://www.w3.org/2000/01/rdf-schema#>\n",
    "PREFIX dbr: <http://dbpedia.org/resource/>\n",
    "PREFIX dbo: <http://dbpedia.org/ontology/>\n",
    "\n",
    "SELECT ?country (COUNT(?language) AS ?frequency) WHERE {\n",
    "  ?country rdf:type dbo:Country ;\n",
    "           dbo:language ?language .\n",
    "  FILTER NOT EXISTS {?country dbo:officialLanguage ?language}\n",
    "} ORDER BY DESC(?frequency)"
   ]
  },
  {
   "cell_type": "markdown",
   "metadata": {},
   "source": [
    "### - Task 7: (1 Point) SPARQL \n",
    "\n",
    "Write a SPARQL query which returns all relationship(s) between the series \"The Office (UK)\" and the actor \"Ricky Gervais\" (literally).\n",
    "\n",
    "Be careful to check for relations in both directions (but not necessarily the same relation in both directions).  \n",
    "\n",
    "Use Yasgui to design the correct SPARQL query, and copy paste it in the cell below. "
   ]
  },
  {
   "cell_type": "code",
   "execution_count": 15,
   "metadata": {},
   "outputs": [
    {
     "output_type": "error",
     "ename": "SyntaxError",
     "evalue": "invalid syntax (<ipython-input-15-854916869f59>, line 1)",
     "traceback": [
      "\u001b[0;36m  File \u001b[0;32m\"<ipython-input-15-854916869f59>\"\u001b[0;36m, line \u001b[0;32m1\u001b[0m\n\u001b[0;31m    PREFIX rdf: <http://www.w3.org/1999/02/22-rdf-syntax-ns#>\u001b[0m\n\u001b[0m             ^\u001b[0m\n\u001b[0;31mSyntaxError\u001b[0m\u001b[0;31m:\u001b[0m invalid syntax\n"
     ]
    }
   ],
   "source": [
    "PREFIX rdf: <http://www.w3.org/1999/02/22-rdf-syntax-ns#>\n",
    "PREFIX rdfs: <http://www.w3.org/2000/01/rdf-schema#>\n",
    "PREFIX dbr: <http://dbpedia.org/resource/>\n",
    "PREFIX dbo: <http://dbpedia.org/ontology/>\n",
    "\n",
    "Select DISTINCT ?relation WHERE {\n",
    "  {dbr:The_Office_\\(UK_TV_series\\) ?relation dbr:Ricky_Gervais .}\n",
    "  UNION\n",
    "  {dbr:Ricky_Gervais ?relation dbr:The_Office_\\(UK_TV_series\\) .}\n",
    "}"
   ]
  },
  {
   "cell_type": "code",
   "execution_count": null,
   "metadata": {},
   "outputs": [],
   "source": []
  }
 ],
 "metadata": {
  "kernelspec": {
   "display_name": "Python 3",
   "language": "python",
   "name": "python3"
  },
  "language_info": {
   "codemirror_mode": {
    "name": "ipython",
    "version": 3
   },
   "file_extension": ".py",
   "mimetype": "text/x-python",
   "name": "python",
   "nbconvert_exporter": "python",
   "pygments_lexer": "ipython3",
   "version": "3.6.9-final"
  }
 },
 "nbformat": 4,
 "nbformat_minor": 4
}