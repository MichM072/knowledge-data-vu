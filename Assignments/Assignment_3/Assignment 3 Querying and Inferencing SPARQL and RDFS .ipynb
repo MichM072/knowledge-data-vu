{
 "cells": [
  {
   "cell_type": "markdown",
   "metadata": {},
   "source": [
    "# Knowledge and Data 2020: Practical Assignment 3 \n",
    "## RDF Data, RDFS knowledge and inferencing "
   ]
  },
  {
   "cell_type": "markdown",
   "metadata": {},
   "source": [
    "YOUR NAME: Michael Moor\n",
    "\n",
    "YOUR VUNetID: mmr497\n",
    "\n",
    "*(If you do not provide your name and VUNetID we will not accept your submission).* "
   ]
  },
  {
   "cell_type": "markdown",
   "metadata": {},
   "source": [
    "### Learning objectives\n",
    "\n",
    "At the end of this exercise you should be able to:\n",
    "\n",
    "1. Access local an external data via SPARQL both from within a python programming environment and stand-alone with a GUI, such as [YASGUI](https://yasgui.triply.cc/), and this way integrate data from different sources  \n",
    "2. Model your own first knowledge base, in this case an RDF Schema knowledge graph\n",
    "3. Implement inference rules "
   ]
  },
  {
   "cell_type": "markdown",
   "metadata": {},
   "source": [
    "Follow this Notebook step-by-step. \n",
    "\n",
    "Of course, you can do the exercises in any Programming Editor of your liking. \n",
    "But you do not have to. Feel free to simply write code in the Notebook. When \n",
    "everythink is filled in and works, safe the Notebook and submit it \n",
    "as a Jupyter Notebook, i.e. with an ipynb extension. Please use as name of the \n",
    "Notebook your studentID+Assignment3.ipynb.  \n",
    "\n",
    "Other than in courses dedicated to programming we will not evaluate the style\n",
    "of the programs. But we will test your programs on other data than we provide, \n",
    "and your program should give the correct answers to those test-data as well. "
   ]
  },
  {
   "cell_type": "markdown",
   "metadata": {},
   "source": [
    "Before you start, you need to:\n",
    "\n",
    "- **Install the *rdflib* Python package:** *pip install rdflib* (should already be installed from the previous assignment)\n",
    "- **Install the *SPARQLWrapper* Python package:** *pip install SPARQLWrapper*\n",
    "- **Install the free edition of the GraphDB Triplestore:** please follow this short [GraphDB tutorial](https://github.com/raadjoe/knowledge-data-vu/blob/master/Tutorials/Preliminaries/tutorial-GraphDB.md). \n",
    "\n",
    "Then, add the file example-from-slides.ttl to a newly created database, say called assignment-3. "
   ]
  },
  {
   "cell_type": "markdown",
   "metadata": {},
   "source": [
    "## Task 1: (3.5 points) Integrate Local and External Data"
   ]
  },
  {
   "cell_type": "markdown",
   "metadata": {},
   "source": [
    "You can integrate SPARQL queries into your Python code by using the *RDFLib* and *SPARQLWrapper* libraries. \n",
    "\n",
    "The following code accesses the DBPedia knowledge graph using its SPARQL endpoint, and returns the result of the SPARQL query requesting all the labels asserted to Amsterdam (test it!)  "
   ]
  },
  {
   "cell_type": "code",
   "execution_count": 1,
   "metadata": {
    "tags": []
   },
   "outputs": [
    {
     "output_type": "stream",
     "name": "stdout",
     "text": "Amsterdam\nأمستردام\nAmsterdam\nÁmsterdam\nAmsterdam\nAmsterdam\nアムステルダム\nAmsterdam\nAmsterdam\nAmesterdão\nАмстердам\n阿姆斯特丹\n"
    }
   ],
   "source": [
    "# This code only works if you are online\n",
    "\n",
    "from rdflib import Graph, RDF, Namespace, Literal, URIRef\n",
    "from SPARQLWrapper import SPARQLWrapper, JSON\n",
    "\n",
    "sparql = SPARQLWrapper(\"http://dbpedia.org/sparql\")\n",
    "sparql.setQuery(\"\"\"\n",
    "    PREFIX rdfs: <http://www.w3.org/2000/01/rdf-schema#>\n",
    "    SELECT ?cityName\n",
    "    WHERE { \n",
    "        <http://dbpedia.org/resource/Amsterdam> rdfs:label ?cityName \n",
    "    }\n",
    "\"\"\")\n",
    "sparql.setReturnFormat(JSON)\n",
    "results = sparql.query().convert()\n",
    "for result in results[\"results\"][\"bindings\"]:\n",
    "    print(result[\"cityName\"][\"value\"])  "
   ]
  },
  {
   "cell_type": "markdown",
   "metadata": {},
   "source": [
    "Your task is now the following:\n",
    "1. Write a SPARQL query that extracts all the cities from your local knowledge graph (constructed by loading the file example-from-slides.ttl) \n",
    "2. Find the number of inhabitants of these cities and the longitude and latitude information (if available) from DBPedia.\n",
    "3. Merge the triples from example-from-slides.ttl with the information extracted from DBpedia + Save all these triples into a new file 'extended-example.ttl' + Print all triples in Turtle Syntax.\n",
    "\n",
    "For your convenience, we already wrote the following functions that might be useful to complete this task. \n",
    "In addition, we have loaded and printed the 'example-from-slides.ttl' dataset."
   ]
  },
  {
   "cell_type": "code",
   "execution_count": 2,
   "metadata": {
    "tags": []
   },
   "outputs": [
    {
     "output_type": "stream",
     "name": "stdout",
     "text": "@prefix ex: <http://example.com/kad2020/> .\n@prefix rdfs: <http://www.w3.org/2000/01/rdf-schema#> .\n\nex:Netherlands a ex:Country ;\n    ex:contains ex:Ijsselmeer ;\n    ex:containsCity ex:Rotterdam ;\n    ex:has_Capital ex:Amsterdam ;\n    ex:has_Name \"The Netherlands\" ;\n    ex:neighbours ex:Belgium .\n\nex:hasCapital rdfs:range ex:Capital ;\n    rdfs:subPropertyOf ex:containsCity .\n\nex:neighbours rdfs:subPropertyOf ex:closeBy .\n\nex:Amsterdam a ex:Capital ;\n    ex:closeBy ex:Germany .\n\nex:Belgium a ex:Country .\n\nex:EuropeanCountry rdfs:subClassOf ex:Country .\n\nex:Germany a ex:EuropeanCountry ;\n    ex:hasCapital ex:Berlin .\n\nex:closeBy rdfs:domain ex:Location ;\n    rdfs:range ex:Location .\n\nex:containsCity rdfs:domain ex:Country ;\n    rdfs:range ex:City ;\n    rdfs:subPropertyOf ex:contains .\n\nex:Capital rdfs:subClassOf ex:City .\n\nex:City rdfs:subClassOf ex:Location .\n\nex:Country rdfs:subClassOf ex:Location .\n\n\n"
    }
   ],
   "source": [
    "from rdflib import Graph, RDF, Namespace, Literal, URIRef\n",
    "from SPARQLWrapper import SPARQLWrapper, JSON\n",
    "\n",
    "g = Graph()\n",
    "\n",
    "\n",
    "\n",
    "# Loads the data from a certain file given as input in Turtle syntax into the Graph g  \n",
    "# -------------------------\n",
    "def load(filename):\n",
    "    with open(filename, 'r') as f:\n",
    "        g.load(f, format='turtle')\n",
    "        \n",
    "\n",
    "# Prints a certain graph given as input in Turtle syntax\n",
    "# -------------------------\n",
    "def serialize(myGraph):\n",
    "     print(myGraph.serialize(format='turtle').decode(\"utf-8\"))\n",
    "        \n",
    "\n",
    "# Saves the Graph g in Turtle syntax to a certain file given as input\n",
    "# -------------------------\n",
    "def save(myGraph, filename):\n",
    "    with open(filename, 'w') as f:\n",
    "        myGraph.serialize(filename, format='turtle')\n",
    "        \n",
    "    \n",
    "# Changes the namespace of a certain URI given as input to a DBpedia URI \n",
    "# Example: transformToDBR(\"http://example.com/kad2020/Amsterdam\") returns \"http://dbpedia.org/resource/Amsterdam\"\n",
    "# -------------------------\n",
    "def transformToDBR(uri):\n",
    "    if isinstance(uri, Literal):\n",
    "        # changes the literal to uppercase so that the object with the same name refers to an object and not the string\n",
    "        return uri.upper()\n",
    "    components = g.namespace_manager.compute_qname(uri)\n",
    "    return \"http://dbpedia.org/resource/%s\"%(components[2])\n",
    "\n",
    "# -------------------------\n",
    "\n",
    "load('example-from-slides.ttl')\n",
    "serialize(g)\n",
    "\n",
    "\n",
    "# Don't forget to run this cell before continuing the task.\n"
   ]
  },
  {
   "cell_type": "markdown",
   "metadata": {},
   "source": [
    "### 1. Write a SPARQL query that finds all the cities in the dataset\n",
    "\n",
    "As there is no explicit class City, you will have to find those cities in the dataset (example-from-slides.ttl) using implicit information that can be deduced from the domain and ranges of the relations (e.g. things in a hasCapital relation are capitals and a capital is a city, etc.).\n",
    "\n",
    "Save all the cities returned from the SPARQL query into the empty set \"cities\". "
   ]
  },
  {
   "cell_type": "code",
   "execution_count": 3,
   "metadata": {
    "tags": []
   },
   "outputs": [
    {
     "output_type": "stream",
     "name": "stdout",
     "text": "http://example.com/kad2020/Rotterdam\nhttp://example.com/kad2020/Amsterdam\nhttp://example.com/kad2020/Berlin\n"
    }
   ],
   "source": [
    "cities = set()\n",
    "\n",
    "qres = g.query(\n",
    "   \"\"\"\n",
    "    PREFIX dbr: <http://dbpedia.org/resource/>\n",
    "    PREFIX dbo: <http://dbpedia.org/ontology/>\n",
    "    PREFIX rdfs: <http://www.w3.org/2000/01/rdf-schema#>\n",
    "    SELECT ?city\n",
    "        WHERE {\n",
    "             {?s ex:hasCapital ?city .}\n",
    "             UNION\n",
    "             {?s ex:containsCity ?city .}\n",
    "             UNION\n",
    "             {?s ex:has_Capital ?city .}\n",
    "\n",
    "        }\n",
    "        LIMIT 10\n",
    "\n",
    "       \"\"\")\n",
    "\n",
    "for row in qres:\n",
    "    cities.add(\"%s\" % row)\n",
    "    \n",
    "for city in cities:\n",
    "    print(city) \n",
    "    "
   ]
  },
  {
   "cell_type": "markdown",
   "metadata": {},
   "source": [
    "### 2. For each city, find from DBpedia its longitude & latitude, and its number of inhabitants (if available)\n",
    "\n",
    "Don't forget to adapt the namespace of the cities in your dataset when querying DBpedia, using the above function *transformToBDR(uri)*\n",
    "\n",
    "The empty graph g2 should only contain the triples extracted from DBpedia, but added to the URIs with the 'ex' namespace. \n",
    "An example of a triple in g2 is the following triple: \n",
    "       \n",
    "       ex:Amsterdam dbo:populationTotal \"842343\" ."
   ]
  },
  {
   "cell_type": "code",
   "execution_count": 4,
   "metadata": {
    "tags": []
   },
   "outputs": [
    {
     "output_type": "error",
     "ename": "SyntaxError",
     "evalue": "invalid syntax (<ipython-input-4-3728b83f0bfb>, line 32)",
     "traceback": [
      "\u001b[0;36m  File \u001b[0;32m\"<ipython-input-4-3728b83f0bfb>\"\u001b[0;36m, line \u001b[0;32m32\u001b[0m\n\u001b[0;31m    g2.add((URIRef(ex + city), geo:long, Literal(result([\"longtitude\"][\"value\"]))))\u001b[0m\n\u001b[0m                                  ^\u001b[0m\n\u001b[0;31mSyntaxError\u001b[0m\u001b[0;31m:\u001b[0m invalid syntax\n"
     ]
    }
   ],
   "source": [
    "g2 = Graph()\n",
    "\n",
    "ex = Namespace(\"http://example.com/kad2020/\")\n",
    "dbo = Namespace(\"http://dbpedia.org/ontology/\")\n",
    "geo = Namespace(\"http://www.w3.org/2003/01/geo/wgs84_pos#\")\n",
    "\n",
    "g2.bind('ex',ex)\n",
    "g2.bind('dbo',dbo)\n",
    "g2.bind('geo',geo)\n",
    "\n",
    "\n",
    "for city in cities:\n",
    "    city = transformToDBR(city)\n",
    "\n",
    "    sparql = SPARQLWrapper(\"http://dbpedia.org/sparql\")\n",
    "    sparql.setQuery(\"\"\"\n",
    "        PREFIX rdfs: <http://www.w3.org/2000/01/rdf-schema#>\n",
    "        PREFIX geo: <http://www.w3.org/2003/01/geo/wgs84_pos#>\n",
    "        PREFIX dbo: <http://dbpedia.org/ontology/>\n",
    "        SELECT DISTINCT ?longtitude ?latitude ?inhabitants\n",
    "        WHERE { \n",
    "            <%s> geo:long ?longtitude ;\n",
    "            geo:lat ?latitude .\n",
    "            OPTIONAL {<%s> dbo:populationTotal ?inhabitants .}\n",
    "            \n",
    "        }\n",
    "    \"\"\"%(city,city))\n",
    "    sparql.setReturnFormat(JSON)\n",
    "    results = sparql.query().convert()\n",
    "    city = city.split('/')[-1]\n",
    "    for result in results[\"results\"][\"bindings\"]:\n",
    "        g2.add((URIRef(ex + city), geo.long, Literal(result([\"longtitude\"][\"value\"]))))\n",
    "        g2.add((URIRef(ex + city), geo.lat, Literal(result([\"latitude\"][\"value\"]))))\n",
    "        try:\n",
    "            g2.add(URIRef((ex + city), dbo.populationTotal, Literal(result([\"inhabitants\"][\"value\"]))))\n",
    "        except:\n",
    "            pass\n",
    "\n",
    "serialize(g2)\n"
   ]
  },
  {
   "cell_type": "markdown",
   "metadata": {},
   "source": [
    "### 3. Save your results\n",
    "\n",
    "- Merge the triples from example-from-slides.ttl with the information extracted from DBpedia\n",
    "- Save all these triples into a new file 'extended-example.ttl'\n",
    "- Print all triples in Turtle Syntax.\n"
   ]
  },
  {
   "cell_type": "code",
   "execution_count": 5,
   "metadata": {},
   "outputs": [],
   "source": [
    "# Your code here\n",
    "\n"
   ]
  },
  {
   "cell_type": "markdown",
   "metadata": {},
   "source": [
    "## Task 2: (2.5 points)  Implement Basic Inferencing Rules "
   ]
  },
  {
   "cell_type": "markdown",
   "metadata": {},
   "source": [
    "In the lecture we showed that the RDFS inference rules can be used to infer new knowledge. For example, infer class membership based on rdfs:domain or infer relationships between subjects and objects based on rdfs:subPropertyOf. \n",
    "\n",
    "Create rules (or 1 rule?!) to inference class membership based on the RDF Schema language features \n",
    "*\tFor example: infer that an instance belongs to a class because of domain and range restrictions\n",
    "*\tFor example: infer that an instance belongs to a (super)class because it also belongs to a subclass\n",
    "\n",
    "We implemented the rdfs2 rule. You should implement the 5 following remaining rules:  \n",
    "\n",
    "*     (rdfs2) If G contains the triples (aaa rdfs:domain xxx.) and (uuu aaa yyy.)  then infer the triple (uuu rdf:type xxx.)\n",
    "*     (rdfs3) If G contains the triples (aaa rdfs:range xxx.) and (uuu aaa vvv.) then infer the triple (vvv rdf:type xxx .)\n",
    "*     (rdfs5) If G contains the triples (uuu rdfs:subPropertyOf vvv.) and (vvv rdfs:subPropertyOf xxx.) then infer the triple\n",
    "(uuu rdfs:subPropertyOf xxx.) \n",
    "*     (rdfs7) If G contains the triples (aaa rdfs:subPropertyOf bbb.) and (uuu aaa yyy.) then infer the triple (uuu bbb yyy) \n",
    "*     (rdfs9) If G contains the triples (uuu rdfs:subClassOf xxx.) and (vvv rdf:type uuu.) then infer the triple\n",
    " (vvv rdf:type xxx.)   -> this one was not mentioned in the lecture, but is a very important one. \n",
    "*     (rdfs11) If G contains the triples (uuu rdfs:subClassOf vvv.) and (vvv rdfs:subClassOf xxx.) then infer the triple\n",
    "(uuu rdfs:subClassOf xxx.)\n",
    "\n",
    "\n",
    "Run your rule reasoner on your knowledge graph."
   ]
  },
  {
   "cell_type": "code",
   "execution_count": 6,
   "metadata": {
    "tags": []
   },
   "outputs": [
    {
     "output_type": "stream",
     "name": "stdout",
     "text": "(rdfs 3)  http://example.com/kad2020/Berlin rdf:type http://example.com/kad2020/Capital\n(rdfs 2)  http://example.com/kad2020/Netherlands rdf:type http://example.com/kad2020/Country\n(rdfs 3)  http://example.com/kad2020/Germany rdf:type http://example.com/kad2020/Location\n(rdfs 3)  http://example.com/kad2020/Rotterdam rdf:type http://example.com/kad2020/City\n(rdfs 5)  http://example.com/kad2020/hasCapital rdfs:subPropertyOf http://example.com/kad2020/contains\n(rdfs 7)  http://example.com/kad2020/Germany http://example.com/kad2020/containsCity http://example.com/kad2020/Berlin\n(rdfs 9)  http://example.com/kad2020/Amsterdam rdf:type http://example.com/kad2020/City\n(rdfs 11)  http://example.com/kad2020/Capital rdfs:subClassOf http://example.com/kad2020/Location\n(rdfs 7)  http://example.com/kad2020/Netherlands http://example.com/kad2020/closeBy http://example.com/kad2020/Belgium\n(rdfs 2)  http://example.com/kad2020/Amsterdam rdf:type http://example.com/kad2020/Location\n(rdfs 9)  http://example.com/kad2020/Germany rdf:type http://example.com/kad2020/Country\n(rdfs 11)  http://example.com/kad2020/EuropeanCountry rdfs:subClassOf http://example.com/kad2020/Location\n(rdfs 9)  http://example.com/kad2020/Netherlands rdf:type http://example.com/kad2020/Location\n(rdfs 9)  http://example.com/kad2020/Belgium rdf:type http://example.com/kad2020/Location\n(rdfs 7)  http://example.com/kad2020/Netherlands http://example.com/kad2020/contains http://example.com/kad2020/Rotterdam\n---------------------------------\nNumber of inferred triples: 15\n---------------------------------\n"
    }
   ],
   "source": [
    "def myRDFSreasoner(myGraph):\n",
    "    inferredTriples = 0\n",
    "    for sbj, prd, obj in myGraph:\n",
    "\n",
    "        # --- rdfs2 ---\n",
    "        if (prd.eq(URIRef(\"http://www.w3.org/2000/01/rdf-schema#domain\"))):\n",
    "            generator = myGraph.subject_objects(URIRef(sbj))\n",
    "            for s,o in generator:\n",
    "                inferredTriples += 1\n",
    "                print(\"(rdfs 2) \", s, \"rdf:type\", obj)\n",
    "        \n",
    "        \n",
    "        # --- rdfs3 ---\n",
    "        if (prd.eq(URIRef(\"http://www.w3.org/2000/01/rdf-schema#range\"))):\n",
    "            generator = myGraph.subject_objects(URIRef(sbj))\n",
    "            for s,o in generator:\n",
    "                inferredTriples += 1\n",
    "                print(\"(rdfs 3) \", o, \"rdf:type\", obj)\n",
    "        \n",
    "        \n",
    "        # --- rdfs5 ---\n",
    "        if (prd.eq(URIRef(\"http://www.w3.org/2000/01/rdf-schema#subPropertyOf\"))):\n",
    "            generator = myGraph.subject_objects(URIRef(prd))\n",
    "            for s,o in generator:\n",
    "                if obj == s:\n",
    "                    inferredTriples += 1\n",
    "                    print(\"(rdfs 5) \", sbj, \"rdfs:subPropertyOf\", o)\n",
    "        \n",
    "        \n",
    "        # --- rdfs7 ---\n",
    "        if (prd.eq(URIRef(\"http://www.w3.org/2000/01/rdf-schema#subPropertyOf\"))):\n",
    "            generator = myGraph.subject_objects(URIRef(sbj))\n",
    "            for s,o in generator:\n",
    "                inferredTriples += 1\n",
    "                print(\"(rdfs 7) \", s, obj, o)\n",
    "         \n",
    "        \n",
    "        # --- rdfs9 ---\n",
    "        if (prd.eq(URIRef(\"http://www.w3.org/2000/01/rdf-schema#subClassOf\"))):\n",
    "            generator = myGraph.subject_objects(URIRef(\"http://www.w3.org/1999/02/22-rdf-syntax-ns#type\"))\n",
    "            for s,o in generator:\n",
    "                if sbj == o:\n",
    "                    inferredTriples += 1\n",
    "                    print(\"(rdfs 9) \", s, \"rdf:type\", obj)\n",
    "        \n",
    "        \n",
    "        # --- rdfs11 ---\n",
    "        if (prd.eq(URIRef(\"http://www.w3.org/2000/01/rdf-schema#subClassOf\"))):\n",
    "            generator = myGraph.subject_objects(URIRef(prd))\n",
    "            for s,o in generator:\n",
    "                if obj == s:\n",
    "                    inferredTriples += 1\n",
    "                    print(\"(rdfs 11) \", sbj, \"rdfs:subClassOf\", o)\n",
    "        \n",
    "    print(\"---------------------------------\")\n",
    "    print(\"Number of inferred triples:\", inferredTriples)\n",
    "    print(\"---------------------------------\")\n",
    "    \n",
    "myRDFSreasoner(g)\n",
    "\n"
   ]
  },
  {
   "cell_type": "markdown",
   "metadata": {},
   "source": [
    "## Task 3: (2 points) Build your very own RDFS knowledge graph. \n"
   ]
  },
  {
   "cell_type": "markdown",
   "metadata": {},
   "source": [
    "Define a small RDF Schema vocabulary in Turtle. You can choose your own domain (e.g. movies, geography, sports) respecting all the following rules:\n",
    "*\tThe schema should define at least 4 classes, 4 properties, and 4 instances.\n",
    "*   The properties should be used to relate the instances\n",
    "*\tThe instances should be a member of your classes\n",
    "*\tAll resources should have an rdfs:label in a suitable language.\n",
    "\n",
    "You should use (at least) the following language features of RDF and RDFS:\n",
    "* \trdf:type (or 'a')\n",
    "* \trdfs:subClassOf\n",
    "* \trdfs:subPropertyOf\n",
    "* \trdfs:domain and rdfs:range\n",
    "*\trdfs:label\n",
    "\n",
    "Be sure to define the 'rdf:' and 'rdfs:' namespace prefixes for RDF and RDF Schema in your file (perhaps have a look at http://prefix.cc)\n",
    "\n",
    "For creating your vocabulary, you can either use a text editor, or add the axioms directly (programatically) to your Knowledge Graph as you did last week. \n",
    "\n",
    "Play around with the inference rules you have created in the previous task to make sure that you some added some implicit knowledge, that becomes \"visible\" via inferencing (this will be useful for the next task). \n",
    "\n",
    "Finally:\n",
    "- Add the knowledge you created into the RDFLIB graph datastructure *myRDFSgraph*, \n",
    "- Print *myRDFSgraph* in Turtle so that we can check your \"design\"\n",
    "- Save *myRDFSgraph* into a new file 'myRDFSgraph.ttl'"
   ]
  },
  {
   "cell_type": "code",
   "execution_count": 7,
   "metadata": {
    "tags": []
   },
   "outputs": [
    {
     "output_type": "stream",
     "name": "stdout",
     "text": "Now let's check what we can infer from your knowledge graph...\nThe more rules you cover, the better!\n(rdfs 2)  http://example.com/kad2020/Halo5 rdf:type http://example.com/kad2020/Game\n(rdfs 2)  http://example.com/kad2020/AmongUs rdf:type http://example.com/kad2020/Game\n(rdfs 2)  http://example.com/kad2020/Destiny rdf:type http://example.com/kad2020/Game\n(rdfs 2)  http://example.com/kad2020/RaidShadowLegends rdf:type http://example.com/kad2020/Game\n(rdfs 2)  http://example.com/kad2020/AmongUs rdf:type http://example.com/kad2020/Game\n(rdfs 2)  http://example.com/kad2020/RaidShadowLegends rdf:type http://example.com/kad2020/Game\n(rdfs 2)  http://example.com/kad2020/Halo5 rdf:type http://example.com/kad2020/Game\n(rdfs 2)  http://example.com/kad2020/Destiny rdf:type http://example.com/kad2020/Game\n(rdfs 9)  http://example.com/kad2020/Halo5 rdf:type http://example.com/kad2020/Game\n(rdfs 2)  http://example.com/kad2020/AmongUs rdf:type http://example.com/kad2020/Game\n(rdfs 2)  http://example.com/kad2020/Destiny rdf:type http://example.com/kad2020/Game\n(rdfs 2)  http://example.com/kad2020/RaidShadowLegends rdf:type http://example.com/kad2020/Game\n(rdfs 2)  http://example.com/kad2020/Halo5 rdf:type http://example.com/kad2020/Game\n(rdfs 9)  http://example.com/kad2020/RaidShadowLegends rdf:type http://example.com/kad2020/Game\n(rdfs 3)  Among Us rdf:type http://example.com/kad2020/Title\n(rdfs 3)  Destiny rdf:type http://example.com/kad2020/Title\n(rdfs 3)  Raid Shadow Legends rdf:type http://example.com/kad2020/Title\n(rdfs 3)  Halo 5: Gaurdians rdf:type http://example.com/kad2020/Title\n(rdfs 3)  http://example.com/kad2020/RolePlayingGame rdf:type http://example.com/kad2020/SubGenre\n(rdfs 3)  http://example.com/kad2020/RolePlayingGame rdf:type http://example.com/kad2020/SubGenre\n(rdfs 3)  http://example.com/kad2020/Survival rdf:type http://example.com/kad2020/SubGenre\n(rdfs 7)  http://example.com/kad2020/RaidShadowLegends http://example.com/kad2020/has_genre http://example.com/kad2020/RolePlayingGame\n(rdfs 7)  http://example.com/kad2020/Destiny http://example.com/kad2020/has_genre http://example.com/kad2020/RolePlayingGame\n(rdfs 7)  http://example.com/kad2020/AmongUs http://example.com/kad2020/has_genre http://example.com/kad2020/Survival\n(rdfs 9)  http://example.com/kad2020/AmongUs rdf:type http://example.com/kad2020/Game\n(rdfs 9)  http://example.com/kad2020/Destiny rdf:type http://example.com/kad2020/Game\n(rdfs 3)  http://example.com/kad2020/Shooter rdf:type http://example.com/kad2020/Genre\n(rdfs 3)  http://example.com/kad2020/PartyGame rdf:type http://example.com/kad2020/Genre\n(rdfs 3)  http://example.com/kad2020/Shooter rdf:type http://example.com/kad2020/Genre\n(rdfs 3)  http://example.com/kad2020/Fantasy rdf:type http://example.com/kad2020/Genre\n(rdfs 3)  June 15, 2018 rdf:type http://example.com/kad2020/ReleaseDate\n(rdfs 3)  July 29, 2018 rdf:type http://example.com/kad2020/ReleaseDate\n(rdfs 3)  October 27, 2015 rdf:type http://example.com/kad2020/ReleaseDate\n(rdfs 3)  September 6, 2017 rdf:type http://example.com/kad2020/ReleaseDate\n(rdfs 3)  Shadowkeep rdf:type http://example.com/kad2020/DownloadableContent\n(rdfs 3)  Memories of Reach rdf:type http://example.com/kad2020/DownloadableContent\n(rdfs 3)  Pet Bundless rdf:type http://example.com/kad2020/DownloadableContent\n---------------------------------\nNumber of inferred triples: 37\n---------------------------------\n@prefix ex: <http://example.com/kad2020/> .\n@prefix rdfs: <http://www.w3.org/2000/01/rdf-schema#> .\n\nex:DownloadableContent a rdfs:Class ;\n    rdfs:domain ex:Game .\n\nex:Game a rdfs:Class .\n\nex:Genre a rdfs:Class .\n\nex:ReleaseData a rdfs:Class .\n\nex:Title a rdfs:Class .\n\nex:AmongUs a ex:CrossPlatformGame ;\n    rdfs:label \"Among Us\"@en ;\n    ex:contains_dlc \"Pet Bundless\" ;\n    ex:has_genre ex:PartyGame ;\n    ex:has_releaseDate \"June 15, 2018\" ;\n    ex:has_subGenre ex:Survival ;\n    ex:has_title \"Among Us\" .\n\nex:Destiny a ex:CrossPlatformGame ;\n    rdfs:label \"Destiny\"@en ;\n    ex:contains_dlc \"Shadowkeep\" ;\n    ex:has_genre ex:Shooter ;\n    ex:has_releaseDate \"September 6, 2017\" ;\n    ex:has_subGenre ex:RolePlayingGame ;\n    ex:has_title \"Destiny\" .\n\nex:Halo5 a ex:ConsoleGame ;\n    rdfs:label \"Halo 5: Gaurdians\"@en ;\n    ex:contains_dlc \"Memories of Reach\" ;\n    ex:has_genre ex:Shooter ;\n    ex:has_releaseDate \"October 27, 2015\" ;\n    ex:has_title \"Halo 5: Gaurdians\" .\n\nex:RaidShadowLegends a ex:MobileGame ;\n    rdfs:label \"RaidShadowLegends\"@en ;\n    ex:has_genre ex:Fantasy ;\n    ex:has_releaseDate \"July 29, 2018\" ;\n    ex:has_subGenre ex:RolePlayingGame ;\n    ex:has_title \"Raid Shadow Legends\" .\n\nex:contains_dlc rdfs:range ex:DownloadableContent .\n\nex:has_releaseDate rdfs:domain ex:Game ;\n    rdfs:range ex:ReleaseDate .\n\nex:has_subGenre rdfs:range ex:SubGenre ;\n    rdfs:subPropertyOf ex:has_genre .\n\nex:has_title rdfs:domain ex:Game ;\n    rdfs:range ex:Title .\n\nex:ConsoleGame rdfs:subClassOf ex:Game .\n\nex:Fantasy a ex:Genre .\n\nex:MobileGame rdfs:subClassOf ex:Game .\n\nex:PartyGame a ex:Genre .\n\nex:Survival a ex:SubGenre .\n\nex:has_genre rdfs:domain ex:Game ;\n    rdfs:range ex:Genre .\n\nex:CrossPlatformGame rdfs:subClassOf ex:Game .\n\nex:RolePlayingGame a ex:SubGenre .\n\nex:Shooter a ex:Genre .\n\n\n"
    }
   ],
   "source": [
    "myRDFSgraph = Graph()\n",
    "\n",
    "rdfs = Namespace(\"http://www.w3.org/2000/01/rdf-schema#\")\n",
    "rdf = Namespace(\"http://www.w3.org/1999/02/22-rdf-syntax-ns#\")\n",
    "ex = Namespace(\"http://example.com/kad2020/\")\n",
    "\n",
    "myRDFSgraph.bind('ex', ex)\n",
    "myRDFSgraph.bind('rdf', rdf)\n",
    "myRDFSgraph.bind('rdfs', rdfs)\n",
    "\n",
    "myRDFSgraph.add((ex.Game, rdf.type, rdfs.Class))\n",
    "myRDFSgraph.add((ex.Genre, rdf.type, rdfs.Class))\n",
    "myRDFSgraph.add((ex.Title, rdf.type, rdfs.Class))\n",
    "myRDFSgraph.add((ex.DownloadableContent, rdf.type, rdfs.Class))\n",
    "myRDFSgraph.add((ex.ReleaseData, rdf.type, rdfs.Class))\n",
    "myRDFSgraph.add((ex.MobileGame, rdfs.subClassOf, ex.Game))\n",
    "myRDFSgraph.add((ex.ConsoleGame, rdfs.subClassOf, ex.Game))\n",
    "myRDFSgraph.add((ex.CrossPlatformGame, rdfs.subClassOf, ex.Game))\n",
    "\n",
    "myRDFSgraph.add((ex.has_title, rdfs.domain, ex.Game))\n",
    "myRDFSgraph.add((ex.has_title, rdfs.range, ex.Title))\n",
    "myRDFSgraph.add((ex.has_genre, rdfs.range, ex.Genre))\n",
    "myRDFSgraph.add((ex.has_genre, rdfs.domain, ex.Game))\n",
    "myRDFSgraph.add((ex.has_releaseDate, rdfs.domain, ex.Game))\n",
    "myRDFSgraph.add((ex.has_releaseDate, rdfs.range, ex.ReleaseDate))\n",
    "myRDFSgraph.add((ex.has_subGenre, rdfs.subPropertyOf, ex.has_genre))\n",
    "myRDFSgraph.add((ex.has_subGenre, rdfs.range, ex.SubGenre))\n",
    "myRDFSgraph.add((ex.RolePlayingGame, rdf.type, ex.SubGenre))\n",
    "myRDFSgraph.add((ex.Survival, rdf.type, ex.SubGenre))\n",
    "myRDFSgraph.add((ex.Shooter, rdf.type, ex.Genre))\n",
    "myRDFSgraph.add((ex.PartyGame, rdf.type, ex.Genre))\n",
    "myRDFSgraph.add((ex.Fantasy, rdf.type, ex.Genre))\n",
    "myRDFSgraph.add((ex.contains_dlc, rdfs.range, ex.DownloadableContent))\n",
    "myRDFSgraph.add((ex.DownloadableContent, rdfs.domain, ex.Game))\n",
    "\n",
    "myRDFSgraph.add((ex.Destiny, rdf.type, ex.CrossPlatformGame))\n",
    "myRDFSgraph.add((ex.Destiny, ex.has_title, Literal(\"Destiny\")))\n",
    "myRDFSgraph.add((ex.Destiny, ex.has_genre, ex.Shooter))\n",
    "myRDFSgraph.add((ex.Destiny, ex.has_subGenre, ex.RolePlayingGame))\n",
    "myRDFSgraph.add((ex.Destiny, ex.contains_dlc, Literal(\"Shadowkeep\")))\n",
    "myRDFSgraph.add((ex.Destiny, ex.has_releaseDate, Literal(\"September 6, 2017\")))\n",
    "myRDFSgraph.add((ex.Destiny, rdfs.label, Literal(\"Destiny\", lang=\"en\")))\n",
    "\n",
    "\n",
    "myRDFSgraph.add((ex.AmongUs, rdf.type, ex.CrossPlatformGame))\n",
    "myRDFSgraph.add((ex.AmongUs, ex.has_title, Literal(\"Among Us\")))\n",
    "myRDFSgraph.add((ex.AmongUs, ex.has_genre, ex.PartyGame))\n",
    "myRDFSgraph.add((ex.AmongUs, ex.has_subGenre, ex.Survival))\n",
    "myRDFSgraph.add((ex.AmongUs, ex.contains_dlc, Literal(\"Pet Bundless\")))\n",
    "myRDFSgraph.add((ex.AmongUs, ex.has_releaseDate, Literal(\"June 15, 2018\")))\n",
    "myRDFSgraph.add((ex.AmongUs, rdfs.label, Literal(\"Among Us\", lang=\"en\")))\n",
    "\n",
    "myRDFSgraph.add((ex.Halo5, rdf.type, ex.ConsoleGame))\n",
    "myRDFSgraph.add((ex.Halo5, ex.has_title, Literal(\"Halo 5: Gaurdians\")))\n",
    "myRDFSgraph.add((ex.Halo5, ex.has_genre, ex.Shooter))\n",
    "myRDFSgraph.add((ex.Halo5, ex.contains_dlc, Literal(\"Memories of Reach\")))\n",
    "myRDFSgraph.add((ex.Halo5, ex.has_releaseDate, Literal(\"October 27, 2015\")))\n",
    "myRDFSgraph.add((ex.Halo5, rdfs.label, Literal(\"Halo 5: Gaurdians\", lang=\"en\")))\n",
    "\n",
    "myRDFSgraph.add((ex.RaidShadowLegends, rdf.type, ex.MobileGame))\n",
    "myRDFSgraph.add((ex.RaidShadowLegends, ex.has_title, Literal(\"Raid Shadow Legends\")))\n",
    "myRDFSgraph.add((ex.RaidShadowLegends, ex.has_genre, ex.Fantasy))\n",
    "myRDFSgraph.add((ex.RaidShadowLegends, ex.has_subGenre, ex.RolePlayingGame))\n",
    "myRDFSgraph.add((ex.RaidShadowLegends, ex.has_releaseDate, Literal(\"July 29, 2018\")))\n",
    "myRDFSgraph.add((ex.RaidShadowLegends, rdfs.label, Literal(\"RaidShadowLegends\", lang=\"en\")))\n",
    "\n",
    "\n",
    "\n",
    "\n",
    "\n",
    "\n",
    "print(\"Now let's check what we can infer from your knowledge graph...\")\n",
    "print(\"The more rules you cover, the better!\")\n",
    "myRDFSreasoner(myRDFSgraph)\n",
    "serialize(myRDFSgraph)\n",
    "save(myRDFSgraph, \"myRDFSgraph.ttl\")\n",
    "\n"
   ]
  },
  {
   "cell_type": "markdown",
   "metadata": {},
   "source": [
    "## Task 4 (2 points) Compare local inferences with GraphDB results"
   ]
  },
  {
   "cell_type": "markdown",
   "metadata": {},
   "source": [
    "Upload *myRDFSgraph.ttl* to GraphDB (check [the GraphDB tutorial](https://github.com/raadjoe/knowledge-data-vu/blob/master/Tutorials/Preliminaries/tutorial-GraphDB.md) before starting to work with GraphDB).\n",
    "\n",
    "Formulate two different SPARQL queries, and write a Python code that executes these queries over your GraphDB SPARQL endpoint (check example of Task 1).\n",
    "\n",
    "**Each SPARQL query should return a different type of inferred knowledge** (at least one triple that was not explicitly asserted in the graph).\n",
    "\n",
    "Specify below next to your query, which type of RDFS rule is the GraphDB reasoner using to infer this answer (rdfs2, rdfs3, rdfs5, rdfs7, rdfs9, rdfs11). "
   ]
  },
  {
   "cell_type": "code",
   "execution_count": 8,
   "metadata": {},
   "outputs": [],
   "source": [
    "# Get your GraphDB repository URL and assign it to the variable 'myEndpoint' below. \n",
    "# It should be similar (but not the same) to this: \n",
    "\n",
    "myEndpoint = \"http://145.108.229.246:7200/repositories/assignment-3\"\n",
    "sparql = SPARQLWrapper(myEndpoint)\n",
    "\n"
   ]
  },
  {
   "cell_type": "code",
   "execution_count": 9,
   "metadata": {},
   "outputs": [],
   "source": [
    "# Query 1 - Specify which RDFS rule are you testing: \n",
    "\n",
    "# Check example of Task 1 on how to query remote SPARQL endpoints\n",
    "\n",
    "sparql.setQuery(\"\"\"\n",
    "\n",
    "\"\"\")\n",
    "\n",
    "\n"
   ]
  },
  {
   "cell_type": "code",
   "execution_count": 10,
   "metadata": {},
   "outputs": [],
   "source": [
    "# Query 2 - Specify which RDFS rule are you testing: \n",
    "\n",
    "# Check example of Task 1 on how to query remote SPARQL endpoints\n",
    "\n",
    "sparql.setQuery(\"\"\"\n",
    "\n",
    "\"\"\")\n",
    "\n"
   ]
  }
 ],
 "metadata": {
  "kernelspec": {
   "display_name": "Python 3",
   "language": "python",
   "name": "python3"
  },
  "language_info": {
   "codemirror_mode": {
    "name": "ipython",
    "version": 3
   },
   "file_extension": ".py",
   "mimetype": "text/x-python",
   "name": "python",
   "nbconvert_exporter": "python",
   "pygments_lexer": "ipython3",
   "version": "3.7.6-final"
  }
 },
 "nbformat": 4,
 "nbformat_minor": 4
}